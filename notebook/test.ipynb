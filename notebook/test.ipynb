{
 "cells": [
  {
   "cell_type": "code",
   "execution_count": 12,
   "id": "7d9745b3",
   "metadata": {},
   "outputs": [],
   "source": [
    "from typing import List\n",
    "class NumArray:\n",
    "\n",
    "    def __init__(self, nums: List[int]):\n",
    "        self.sums = [0]\n",
    "        a_sums = self.sums\n",
    "\n",
    "        for num in nums:\n",
    "            a_sums.append(a_sums[-1] + num)\n",
    "\n",
    "    def sumRange(self, i: int, j: int) -> int:\n",
    "        _sums = self.sums\n",
    "        return _sums[j + 1] - _sums[i]\n"
   ]
  },
  {
   "cell_type": "code",
   "execution_count": 13,
   "id": "b0e23e18",
   "metadata": {},
   "outputs": [
    {
     "data": {
      "text/plain": [
       "[0, -2, -2, 1, -4, -2, -3]"
      ]
     },
     "execution_count": 13,
     "metadata": {},
     "output_type": "execute_result"
    }
   ],
   "source": [
    "\n",
    "na = NumArray([-2, 0, 3, -5, 2, -1])\n",
    "\n",
    "na.sums"
   ]
  },
  {
   "cell_type": "code",
   "execution_count": 22,
   "id": "8bee167f",
   "metadata": {},
   "outputs": [
    {
     "data": {
      "text/plain": [
       "defaultdict(set, {1: {2, 3}})"
      ]
     },
     "execution_count": 22,
     "metadata": {},
     "output_type": "execute_result"
    }
   ],
   "source": [
    "from collections import defaultdict\n",
    "a = defaultdict(set)\n",
    "a[1].add(2)\n",
    "a[1].add(3)\n",
    "a\n"
   ]
  },
  {
   "cell_type": "code",
   "execution_count": 38,
   "id": "fd353d71",
   "metadata": {},
   "outputs": [
    {
     "data": {
      "text/plain": [
       "6"
      ]
     },
     "execution_count": 38,
     "metadata": {},
     "output_type": "execute_result"
    }
   ],
   "source": [
    "prices = [3,3,5,0,0,3,1,4]\n",
    "# 0 - i 天，只交易一次，获得的最大利润\n",
    "min1 = float('inf')\n",
    "max_profit1 = 0\n",
    "vec1 = []\n",
    "# 正序，只交易一次，最大利润\n",
    "for i in range(len(prices)):\n",
    "    if prices[i] < min1:\n",
    "        min1 = prices[i]\n",
    "    if prices[i] - min1 > max_profit1:\n",
    "        max_profit1 = prices[i] - min1\n",
    "    vec1.append(max_profit1)\n",
    "# print(vec1)\n",
    "# 倒叙，只交易一次，最大利润\n",
    "max2 = float('-inf')\n",
    "min_profit2 = 0\n",
    "vec2 = []\n",
    "for i in range(len(prices)-1,-1,-1):\n",
    "    if prices[i] > max2:\n",
    "        max2 = prices[i]\n",
    "    if prices[i] - max2 < min_profit2:\n",
    "        min_profit2 = prices[i] - max2\n",
    "    vec2.append(min_profit2)\n",
    "vec2 = [i*-1 for i in vec2][::-1]\n",
    "# vec2\n",
    "max([vec1[i]+vec2[i] for i in range(len(vec1))])"
   ]
  },
  {
   "cell_type": "code",
   "execution_count": null,
   "id": "9ede11ea",
   "metadata": {},
   "outputs": [],
   "source": []
  },
  {
   "cell_type": "code",
   "execution_count": null,
   "id": "914bf83a",
   "metadata": {},
   "outputs": [],
   "source": []
  },
  {
   "cell_type": "code",
   "execution_count": null,
   "id": "a11e5eb8",
   "metadata": {},
   "outputs": [],
   "source": []
  },
  {
   "cell_type": "code",
   "execution_count": null,
   "id": "31e6cc27",
   "metadata": {},
   "outputs": [],
   "source": [
    "from collections import defaultdict\n",
    "class Solution:\n",
    "    def subarraySum(self, nums: List[int], k: int) -> int:\n",
    "        s = [0] * (len(nums) + 1)\n",
    "        for i, x in enumerate(nums):\n",
    "            s[i + 1] = s[i] + x\n",
    "\n",
    "        ans = 0\n",
    "        cnt = defaultdict(int)\n",
    "        for sj in s:\n",
    "            ans += cnt[sj - k]\n",
    "            cnt[sj] += 1\n",
    "        return ans\n",
    "\n"
   ]
  },
  {
   "cell_type": "code",
   "execution_count": null,
   "id": "8a03316c",
   "metadata": {},
   "outputs": [],
   "source": []
  },
  {
   "cell_type": "code",
   "execution_count": null,
   "id": "36295a93",
   "metadata": {},
   "outputs": [],
   "source": []
  },
  {
   "cell_type": "code",
   "execution_count": null,
   "id": "29c73a93",
   "metadata": {},
   "outputs": [],
   "source": []
  },
  {
   "cell_type": "code",
   "execution_count": null,
   "id": "5bbfb252",
   "metadata": {},
   "outputs": [],
   "source": []
  },
  {
   "cell_type": "code",
   "execution_count": null,
   "id": "ce9198e2",
   "metadata": {},
   "outputs": [],
   "source": []
  },
  {
   "cell_type": "code",
   "execution_count": null,
   "id": "968e72a0",
   "metadata": {},
   "outputs": [],
   "source": []
  },
  {
   "cell_type": "code",
   "execution_count": null,
   "id": "be58cd4e",
   "metadata": {},
   "outputs": [],
   "source": []
  },
  {
   "cell_type": "code",
   "execution_count": null,
   "id": "273721b8",
   "metadata": {},
   "outputs": [],
   "source": []
  },
  {
   "cell_type": "code",
   "execution_count": null,
   "id": "b7d93994",
   "metadata": {},
   "outputs": [],
   "source": []
  }
 ],
 "metadata": {
  "kernelspec": {
   "display_name": "note_llm",
   "language": "python",
   "name": "python3"
  },
  "language_info": {
   "codemirror_mode": {
    "name": "ipython",
    "version": 3
   },
   "file_extension": ".py",
   "mimetype": "text/x-python",
   "name": "python",
   "nbconvert_exporter": "python",
   "pygments_lexer": "ipython3",
   "version": "3.10.16"
  }
 },
 "nbformat": 4,
 "nbformat_minor": 5
}
