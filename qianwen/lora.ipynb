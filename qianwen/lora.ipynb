{
 "cells": [
  {
   "cell_type": "code",
   "execution_count": 1,
   "id": "db311a88",
   "metadata": {},
   "outputs": [
    {
     "name": "stdout",
     "output_type": "stream",
     "text": [
      "/Users/ethan/code/note_llm/traffic\n"
     ]
    }
   ],
   "source": [
    "!pwd"
   ]
  },
  {
   "cell_type": "code",
   "execution_count": 2,
   "id": "8efa7695",
   "metadata": {},
   "outputs": [
    {
     "name": "stderr",
     "output_type": "stream",
     "text": [
      "/var/folders/hz/k38sdngd20sbs7s5hf8l37tw0000gn/T/ipykernel_83493/2398609037.py:6: FutureWarning: 'H' is deprecated and will be removed in a future version, please use 'h' instead.\n",
      "  timestamps = pd.date_range(start=\"2024-01-01\", periods=num_samples+seq_len+pred_len, freq=\"H\")\n"
     ]
    }
   ],
   "source": [
    "import pandas as pd\n",
    "import numpy as np\n",
    "\n",
    "def generate_traffic_data(num_samples=1000, seq_len=24, pred_len=6):\n",
    "    \"\"\"生成模拟交通流量时间序列数据\"\"\"\n",
    "    timestamps = pd.date_range(start=\"2024-01-01\", periods=num_samples+seq_len+pred_len, freq=\"H\")\n",
    "    data = {\n",
    "        \"time\": [],\n",
    "        \"road_id\": [],\n",
    "        \"traffic_flow\": [],\n",
    "        \"prompt\": [],\n",
    "        \"target\": []\n",
    "    }\n",
    "    \n",
    "    for i in range(num_samples):\n",
    "        # 生成路段ID和基础流量\n",
    "        road_id = np.random.choice([\"A1\", \"B2\", \"C3\"])\n",
    "        base_flow = np.random.randint(50, 200)\n",
    "        \n",
    "        # 生成带周期性的时间序列\n",
    "        historical = base_flow + 20 * np.sin(np.linspace(0, 2*np.pi, seq_len)) + np.random.normal(0, 5, seq_len)\n",
    "        future = base_flow + 20 * np.sin(np.linspace(2*np.pi, 4*np.pi, pred_len)) + np.random.normal(0, 5, pred_len)\n",
    "        \n",
    "        # 构建Prompt\n",
    "        prompt = f\"已知过去{seq_len}小时交通流量为：{historical.tolist()}，预测未来{pred_len}小时流量为：\"\n",
    "        target = \", \".join(map(str, future.round().astype(int)))\n",
    "        \n",
    "        # 填充数据\n",
    "        data[\"time\"].append(timestamps[i:i+seq_len])\n",
    "        data[\"road_id\"].append(road_id)\n",
    "        data[\"traffic_flow\"].append(historical.tolist())\n",
    "        data[\"prompt\"].append(prompt)\n",
    "        data[\"target\"].append(target)\n",
    "    \n",
    "    return pd.DataFrame(data)\n",
    "\n",
    "# 生成并保存数据\n",
    "traffic_df = generate_traffic_data()\n",
    "traffic_df.to_csv(\"traffic_dataset.csv\", index=False)"
   ]
  },
  {
   "cell_type": "code",
   "execution_count": 5,
   "id": "ff9db12e",
   "metadata": {},
   "outputs": [],
   "source": [
    "from datasets import Dataset\n",
    "\n",
    "# Convert the 'time' column to a list of strings\n",
    "traffic_df['time'] = traffic_df['time'].apply(lambda x: [str(t) for t in x])\n",
    "\n",
    "# Create the Dataset\n",
    "dataset = Dataset.from_pandas(traffic_df)\n",
    "dataset = dataset.train_test_split(test_size=0.2)"
   ]
  },
  {
   "cell_type": "code",
   "execution_count": null,
   "id": "432ccdc5",
   "metadata": {},
   "outputs": [],
   "source": []
  },
  {
   "cell_type": "code",
   "execution_count": 10,
   "id": "3e16eff5",
   "metadata": {},
   "outputs": [
    {
     "name": "stderr",
     "output_type": "stream",
     "text": [
      "Sliding Window Attention is enabled but not implemented for `sdpa`; unexpected results may be encountered.\n"
     ]
    }
   ],
   "source": [
    "from huggingface_hub import login\n",
    "from transformers import AutoModelForCausalLM, AutoTokenizer\n",
    "login()\n",
    "model_name = \"Qwen/Qwen2-0.5B\"\n",
    "tokenizer = AutoTokenizer.from_pretrained(model_name)\n",
    "model = AutoModelForCausalLM.from_pretrained(model_name)"
   ]
  },
  {
   "cell_type": "code",
   "execution_count": null,
   "id": "1835257e",
   "metadata": {},
   "outputs": [],
   "source": []
  },
  {
   "cell_type": "code",
   "execution_count": null,
   "id": "ddb8ef26",
   "metadata": {},
   "outputs": [],
   "source": []
  },
  {
   "cell_type": "code",
   "execution_count": null,
   "id": "f635a9fe",
   "metadata": {},
   "outputs": [],
   "source": []
  },
  {
   "cell_type": "code",
   "execution_count": null,
   "id": "3bdc43a1",
   "metadata": {},
   "outputs": [],
   "source": []
  },
  {
   "cell_type": "code",
   "execution_count": null,
   "id": "552a091a",
   "metadata": {},
   "outputs": [],
   "source": []
  },
  {
   "cell_type": "code",
   "execution_count": null,
   "id": "7eb658db",
   "metadata": {},
   "outputs": [],
   "source": []
  },
  {
   "cell_type": "code",
   "execution_count": null,
   "id": "7aee3d07",
   "metadata": {},
   "outputs": [],
   "source": []
  },
  {
   "cell_type": "code",
   "execution_count": null,
   "id": "ee29ba63",
   "metadata": {},
   "outputs": [],
   "source": []
  },
  {
   "cell_type": "code",
   "execution_count": null,
   "id": "b1169246",
   "metadata": {},
   "outputs": [],
   "source": []
  },
  {
   "cell_type": "code",
   "execution_count": null,
   "id": "129415b5",
   "metadata": {},
   "outputs": [],
   "source": []
  }
 ],
 "metadata": {
  "kernelspec": {
   "display_name": "traffic_forecast",
   "language": "python",
   "name": "python3"
  },
  "language_info": {
   "codemirror_mode": {
    "name": "ipython",
    "version": 3
   },
   "file_extension": ".py",
   "mimetype": "text/x-python",
   "name": "python",
   "nbconvert_exporter": "python",
   "pygments_lexer": "ipython3",
   "version": "3.10.16"
  }
 },
 "nbformat": 4,
 "nbformat_minor": 5
}
